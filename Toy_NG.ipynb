{
 "cells": [
  {
   "cell_type": "code",
   "execution_count": 1,
   "metadata": {
    "collapsed": true
   },
   "outputs": [],
   "source": [
    "import numpy as np\n",
    "from sklearn.utils import shuffle\n",
    "\n",
    "X0 = np.random.randn(100, 2) - 1\n",
    "X1 = np.random.randn(100, 2) + 1\n",
    "X = np.vstack([X0, X1])\n",
    "t = np.vstack([np.zeros([100, 1]), np.ones([100, 1])])"
   ]
  },
  {
   "cell_type": "code",
   "execution_count": 10,
   "metadata": {},
   "outputs": [],
   "source": [
    "X, t = shuffle(X, t)\n",
    "\n",
    "X_train, X_test = X[:150], X[150:]\n",
    "t_train, t_test = t[:150], t[150:]"
   ]
  },
  {
   "cell_type": "code",
   "execution_count": 13,
   "metadata": {
    "collapsed": true
   },
   "outputs": [],
   "source": [
    "# Initialize weight\n",
    "W = np.random.randn(2, 1) * 0.01\n",
    "\n",
    "def sigm(x):\n",
    "    return 1/(1+np.exp(-x))\n",
    "\n",
    "def NLL(y, t):\n",
    "    return -np.mean(t*np.log(y) + (1-t)*np.log(1-y))"
   ]
  },
  {
   "cell_type": "code",
   "execution_count": 14,
   "metadata": {},
   "outputs": [
    {
     "name": "stdout",
     "output_type": "stream",
     "text": [
      "Loss: 0.692\n"
     ]
    }
   ],
   "source": [
    "# Forward\n",
    "z = X_train @ W\n",
    "y = sigm(z)\n",
    "loss = NLL(y, t_train)\n",
    "\n",
    "# Loss\n",
    "print(f'Loss: {loss:.3f}')"
   ]
  },
  {
   "cell_type": "code",
   "execution_count": 16,
   "metadata": {},
   "outputs": [],
   "source": [
    "m = y.shape[0]\n",
    "dy = (y-t_train)/(m * (y - y*y))\n",
    "dz = sigm(z)*(1-sigm(z))\n",
    "dW = X_train.T @ (dz * dy)"
   ]
  },
  {
   "cell_type": "code",
   "execution_count": 21,
   "metadata": {},
   "outputs": [],
   "source": [
    "alpha = 0.1\n",
    "W = W - alpha * dW"
   ]
  },
  {
   "cell_type": "code",
   "execution_count": 23,
   "metadata": {},
   "outputs": [],
   "source": [
    "grad_loglik_z = (t_train-y)/(y - y*y) * dz\n",
    "grad_loglik_W = grad_loglik_z * X_train"
   ]
  },
  {
   "cell_type": "code",
   "execution_count": 27,
   "metadata": {},
   "outputs": [
    {
     "data": {
      "text/plain": [
       "array([[0.25286861, 0.00473385],\n",
       "       [0.00473385, 0.20251003]])"
      ]
     },
     "execution_count": 27,
     "metadata": {},
     "output_type": "execute_result"
    }
   ],
   "source": [
    "F = np.cov(grad_loglik_W.T)\n",
    "F"
   ]
  },
  {
   "cell_type": "code",
   "execution_count": 28,
   "metadata": {},
   "outputs": [
    {
     "data": {
      "text/plain": [
       "array([[0.23597271],\n",
       "       [0.30477862]])"
      ]
     },
     "execution_count": 28,
     "metadata": {},
     "output_type": "execute_result"
    }
   ],
   "source": [
    "W = W - alpha * np.linalg.inv(F) @ dW\n",
    "W"
   ]
  },
  {
   "cell_type": "code",
   "execution_count": 29,
   "metadata": {},
   "outputs": [
    {
     "name": "stdout",
     "output_type": "stream",
     "text": [
      "Loss: 0.473\n",
      "Loss: 0.270\n",
      "Loss: 0.174\n",
      "Loss: 0.163\n",
      "Loss: 0.158\n",
      "[[1.90740969]\n",
      " [2.27859758]]\n"
     ]
    }
   ],
   "source": [
    "# Training\n",
    "for it in range(5):\n",
    "    # Forward\n",
    "    z = X_train @ W\n",
    "    y = sigm(z)\n",
    "    loss = NLL(y, t_train)\n",
    "\n",
    "    # Loss\n",
    "    print(f'Loss: {loss:.3f}')\n",
    "\n",
    "    m = y.shape[0]\n",
    "\n",
    "    dy = (y-t_train)/(m * (y - y*y))\n",
    "    dz = sigm(z)*(1-sigm(z))\n",
    "    dW = X_train.T @ (dz * dy)\n",
    "\n",
    "    grad_loglik_z = (t_train-y)/(y - y*y) * dz\n",
    "    grad_loglik_W = grad_loglik_z * X_train\n",
    "    F = np.cov(grad_loglik_W.T)\n",
    "\n",
    "    # Step\n",
    "    W = W - alpha * np.linalg.inv(F) @ dW\n",
    "    # W = W - alpha * dW\n",
    "\n",
    "print(W)"
   ]
  },
  {
   "cell_type": "code",
   "execution_count": 30,
   "metadata": {},
   "outputs": [
    {
     "name": "stdout",
     "output_type": "stream",
     "text": [
      "Accuracy: 0.980\n"
     ]
    }
   ],
   "source": [
    "y = sigm(X_test @ W).ravel()\n",
    "acc = np.mean((y >= 0.5) == t_test.ravel())\n",
    "\n",
    "print(f'Accuracy: {acc:.3f}')"
   ]
  }
 ],
 "metadata": {
  "kernelspec": {
   "display_name": "Python 3",
   "language": "python",
   "name": "python3"
  },
  "language_info": {
   "codemirror_mode": {
    "name": "ipython",
    "version": 3
   },
   "file_extension": ".py",
   "mimetype": "text/x-python",
   "name": "python",
   "nbconvert_exporter": "python",
   "pygments_lexer": "ipython3",
   "version": "3.6.1"
  }
 },
 "nbformat": 4,
 "nbformat_minor": 2
}
